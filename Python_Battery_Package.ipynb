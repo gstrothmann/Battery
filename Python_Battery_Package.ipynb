{
 "cells": [
  {
   "cell_type": "markdown",
   "metadata": {},
   "source": [
    "Importing packages and data"
   ]
  },
  {
   "cell_type": "code",
   "execution_count": 1,
   "metadata": {},
   "outputs": [],
   "source": [
    "import pandas as pd\n",
    "import numpy as np\n",
    "import matplotlib.pyplot as plt\n",
    "import seaborn as sb\n",
    "from battery import Battery"
   ]
  },
  {
   "cell_type": "code",
   "execution_count": 4,
   "metadata": {},
   "outputs": [],
   "source": [
    "myBattery = Battery(max_power = 1000, net_capacity=4000)"
   ]
  },
  {
   "cell_type": "code",
   "execution_count": 10,
   "metadata": {},
   "outputs": [],
   "source": [
    "myBattery.reset()"
   ]
  },
  {
   "cell_type": "code",
   "execution_count": 27,
   "metadata": {},
   "outputs": [],
   "source": [
    "myBattery.charge_max_possible()"
   ]
  },
  {
   "cell_type": "code",
   "execution_count": 28,
   "metadata": {},
   "outputs": [],
   "source": [
    "myBattery.discharge_max_possible()"
   ]
  },
  {
   "cell_type": "code",
   "execution_count": 29,
   "metadata": {},
   "outputs": [
    {
     "data": {
      "text/html": [
       "<div>\n",
       "<style scoped>\n",
       "    .dataframe tbody tr th:only-of-type {\n",
       "        vertical-align: middle;\n",
       "    }\n",
       "\n",
       "    .dataframe tbody tr th {\n",
       "        vertical-align: top;\n",
       "    }\n",
       "\n",
       "    .dataframe thead th {\n",
       "        text-align: right;\n",
       "    }\n",
       "</style>\n",
       "<table border=\"1\" class=\"dataframe\">\n",
       "  <thead>\n",
       "    <tr style=\"text-align: right;\">\n",
       "      <th></th>\n",
       "      <th>datetime</th>\n",
       "      <th>soc</th>\n",
       "      <th>power_output</th>\n",
       "      <th>energy_output</th>\n",
       "    </tr>\n",
       "  </thead>\n",
       "  <tbody>\n",
       "    <tr>\n",
       "      <th>0</th>\n",
       "      <td>2020-01-01 00:00:00</td>\n",
       "      <td>0.500000</td>\n",
       "      <td>1000.0</td>\n",
       "      <td>1000.0</td>\n",
       "    </tr>\n",
       "    <tr>\n",
       "      <th>1</th>\n",
       "      <td>2020-01-01 01:00:00</td>\n",
       "      <td>0.739792</td>\n",
       "      <td>-1000.0</td>\n",
       "      <td>-1000.0</td>\n",
       "    </tr>\n",
       "    <tr>\n",
       "      <th>2</th>\n",
       "      <td>2020-01-01 02:00:00</td>\n",
       "      <td>0.479149</td>\n",
       "      <td>1000.0</td>\n",
       "      <td>1000.0</td>\n",
       "    </tr>\n",
       "    <tr>\n",
       "      <th>3</th>\n",
       "      <td>2020-01-01 03:00:00</td>\n",
       "      <td>0.718940</td>\n",
       "      <td>-1000.0</td>\n",
       "      <td>-1000.0</td>\n",
       "    </tr>\n",
       "    <tr>\n",
       "      <th>4</th>\n",
       "      <td>2020-01-01 04:00:00</td>\n",
       "      <td>0.458297</td>\n",
       "      <td>1000.0</td>\n",
       "      <td>1000.0</td>\n",
       "    </tr>\n",
       "    <tr>\n",
       "      <th>5</th>\n",
       "      <td>2020-01-01 05:00:00</td>\n",
       "      <td>0.698089</td>\n",
       "      <td>-1000.0</td>\n",
       "      <td>-1000.0</td>\n",
       "    </tr>\n",
       "    <tr>\n",
       "      <th>6</th>\n",
       "      <td>2020-01-01 06:00:00</td>\n",
       "      <td>0.437446</td>\n",
       "      <td>1000.0</td>\n",
       "      <td>1000.0</td>\n",
       "    </tr>\n",
       "    <tr>\n",
       "      <th>7</th>\n",
       "      <td>2020-01-01 07:00:00</td>\n",
       "      <td>0.677237</td>\n",
       "      <td>-1000.0</td>\n",
       "      <td>-1000.0</td>\n",
       "    </tr>\n",
       "    <tr>\n",
       "      <th>8</th>\n",
       "      <td>2020-01-01 08:00:00</td>\n",
       "      <td>0.416594</td>\n",
       "      <td>1000.0</td>\n",
       "      <td>1000.0</td>\n",
       "    </tr>\n",
       "    <tr>\n",
       "      <th>9</th>\n",
       "      <td>2020-01-01 09:00:00</td>\n",
       "      <td>0.656386</td>\n",
       "      <td>-1000.0</td>\n",
       "      <td>-1000.0</td>\n",
       "    </tr>\n",
       "    <tr>\n",
       "      <th>10</th>\n",
       "      <td>2020-01-01 10:00:00</td>\n",
       "      <td>0.395743</td>\n",
       "      <td>1000.0</td>\n",
       "      <td>1000.0</td>\n",
       "    </tr>\n",
       "    <tr>\n",
       "      <th>11</th>\n",
       "      <td>2020-01-01 11:00:00</td>\n",
       "      <td>0.635534</td>\n",
       "      <td>-1000.0</td>\n",
       "      <td>-1000.0</td>\n",
       "    </tr>\n",
       "    <tr>\n",
       "      <th>12</th>\n",
       "      <td>2020-01-01 12:00:00</td>\n",
       "      <td>0.374891</td>\n",
       "      <td>1000.0</td>\n",
       "      <td>1000.0</td>\n",
       "    </tr>\n",
       "    <tr>\n",
       "      <th>13</th>\n",
       "      <td>2020-01-01 13:00:00</td>\n",
       "      <td>0.614683</td>\n",
       "      <td>-1000.0</td>\n",
       "      <td>-1000.0</td>\n",
       "    </tr>\n",
       "    <tr>\n",
       "      <th>14</th>\n",
       "      <td>2020-01-01 14:00:00</td>\n",
       "      <td>0.354040</td>\n",
       "      <td>1000.0</td>\n",
       "      <td>1000.0</td>\n",
       "    </tr>\n",
       "    <tr>\n",
       "      <th>15</th>\n",
       "      <td>2020-01-01 15:00:00</td>\n",
       "      <td>0.593831</td>\n",
       "      <td>-1000.0</td>\n",
       "      <td>-1000.0</td>\n",
       "    </tr>\n",
       "  </tbody>\n",
       "</table>\n",
       "</div>"
      ],
      "text/plain": [
       "              datetime       soc  power_output  energy_output\n",
       "0  2020-01-01 00:00:00  0.500000        1000.0         1000.0\n",
       "1  2020-01-01 01:00:00  0.739792       -1000.0        -1000.0\n",
       "2  2020-01-01 02:00:00  0.479149        1000.0         1000.0\n",
       "3  2020-01-01 03:00:00  0.718940       -1000.0        -1000.0\n",
       "4  2020-01-01 04:00:00  0.458297        1000.0         1000.0\n",
       "5  2020-01-01 05:00:00  0.698089       -1000.0        -1000.0\n",
       "6  2020-01-01 06:00:00  0.437446        1000.0         1000.0\n",
       "7  2020-01-01 07:00:00  0.677237       -1000.0        -1000.0\n",
       "8  2020-01-01 08:00:00  0.416594        1000.0         1000.0\n",
       "9  2020-01-01 09:00:00  0.656386       -1000.0        -1000.0\n",
       "10 2020-01-01 10:00:00  0.395743        1000.0         1000.0\n",
       "11 2020-01-01 11:00:00  0.635534       -1000.0        -1000.0\n",
       "12 2020-01-01 12:00:00  0.374891        1000.0         1000.0\n",
       "13 2020-01-01 13:00:00  0.614683       -1000.0        -1000.0\n",
       "14 2020-01-01 14:00:00  0.354040        1000.0         1000.0\n",
       "15 2020-01-01 15:00:00  0.593831       -1000.0        -1000.0"
      ]
     },
     "execution_count": 29,
     "metadata": {},
     "output_type": "execute_result"
    }
   ],
   "source": [
    "myBattery.get_battery_curves()"
   ]
  },
  {
   "cell_type": "code",
   "execution_count": 5,
   "metadata": {},
   "outputs": [],
   "source": [
    "price_list = [5,4,6,4,3,7,8,3,5,4,9,7,8,1,2,6,9,0,0,6,5,8,2,3,2,4,8,7,9]\n",
    "buy_price = 3\n",
    "sell_price = 7"
   ]
  },
  {
   "cell_type": "code",
   "execution_count": 6,
   "metadata": {},
   "outputs": [
    {
     "data": {
      "text/html": [
       "<div>\n",
       "<style scoped>\n",
       "    .dataframe tbody tr th:only-of-type {\n",
       "        vertical-align: middle;\n",
       "    }\n",
       "\n",
       "    .dataframe tbody tr th {\n",
       "        vertical-align: top;\n",
       "    }\n",
       "\n",
       "    .dataframe thead th {\n",
       "        text-align: right;\n",
       "    }\n",
       "</style>\n",
       "<table border=\"1\" class=\"dataframe\">\n",
       "  <thead>\n",
       "    <tr style=\"text-align: right;\">\n",
       "      <th></th>\n",
       "      <th>datetime</th>\n",
       "      <th>transaction_type</th>\n",
       "      <th>price_eur_per_MWh</th>\n",
       "      <th>volume_MWh</th>\n",
       "      <th>revenue_eur</th>\n",
       "    </tr>\n",
       "  </thead>\n",
       "  <tbody>\n",
       "    <tr>\n",
       "      <th>0</th>\n",
       "      <td>2020-01-01 04:00:00</td>\n",
       "      <td>buy</td>\n",
       "      <td>3</td>\n",
       "      <td>1.000000e+00</td>\n",
       "      <td>-3.000000e+00</td>\n",
       "    </tr>\n",
       "    <tr>\n",
       "      <th>1</th>\n",
       "      <td>2020-01-01 05:00:00</td>\n",
       "      <td>sell</td>\n",
       "      <td>7</td>\n",
       "      <td>-1.000000e+00</td>\n",
       "      <td>7.000000e+00</td>\n",
       "    </tr>\n",
       "    <tr>\n",
       "      <th>2</th>\n",
       "      <td>2020-01-01 06:00:00</td>\n",
       "      <td>sell</td>\n",
       "      <td>8</td>\n",
       "      <td>-1.000000e+00</td>\n",
       "      <td>8.000000e+00</td>\n",
       "    </tr>\n",
       "    <tr>\n",
       "      <th>3</th>\n",
       "      <td>2020-01-01 07:00:00</td>\n",
       "      <td>buy</td>\n",
       "      <td>3</td>\n",
       "      <td>1.000000e+00</td>\n",
       "      <td>-3.000000e+00</td>\n",
       "    </tr>\n",
       "    <tr>\n",
       "      <th>4</th>\n",
       "      <td>2020-01-01 10:00:00</td>\n",
       "      <td>sell</td>\n",
       "      <td>9</td>\n",
       "      <td>-1.000000e+00</td>\n",
       "      <td>9.000000e+00</td>\n",
       "    </tr>\n",
       "    <tr>\n",
       "      <th>5</th>\n",
       "      <td>2020-01-01 11:00:00</td>\n",
       "      <td>sell</td>\n",
       "      <td>7</td>\n",
       "      <td>-7.583326e-01</td>\n",
       "      <td>5.308328e+00</td>\n",
       "    </tr>\n",
       "    <tr>\n",
       "      <th>6</th>\n",
       "      <td>2020-01-01 12:00:00</td>\n",
       "      <td>sell</td>\n",
       "      <td>8</td>\n",
       "      <td>1.064889e-16</td>\n",
       "      <td>-8.519108e-16</td>\n",
       "    </tr>\n",
       "    <tr>\n",
       "      <th>7</th>\n",
       "      <td>2020-01-01 13:00:00</td>\n",
       "      <td>buy</td>\n",
       "      <td>1</td>\n",
       "      <td>1.000000e+00</td>\n",
       "      <td>-1.000000e+00</td>\n",
       "    </tr>\n",
       "    <tr>\n",
       "      <th>8</th>\n",
       "      <td>2020-01-01 14:00:00</td>\n",
       "      <td>buy</td>\n",
       "      <td>2</td>\n",
       "      <td>1.000000e+00</td>\n",
       "      <td>-2.000000e+00</td>\n",
       "    </tr>\n",
       "    <tr>\n",
       "      <th>9</th>\n",
       "      <td>2020-01-01 16:00:00</td>\n",
       "      <td>sell</td>\n",
       "      <td>9</td>\n",
       "      <td>-1.000000e+00</td>\n",
       "      <td>9.000000e+00</td>\n",
       "    </tr>\n",
       "    <tr>\n",
       "      <th>10</th>\n",
       "      <td>2020-01-01 17:00:00</td>\n",
       "      <td>buy</td>\n",
       "      <td>0</td>\n",
       "      <td>1.000000e+00</td>\n",
       "      <td>-0.000000e+00</td>\n",
       "    </tr>\n",
       "    <tr>\n",
       "      <th>11</th>\n",
       "      <td>2020-01-01 18:00:00</td>\n",
       "      <td>buy</td>\n",
       "      <td>0</td>\n",
       "      <td>1.000000e+00</td>\n",
       "      <td>-0.000000e+00</td>\n",
       "    </tr>\n",
       "    <tr>\n",
       "      <th>12</th>\n",
       "      <td>2020-01-01 21:00:00</td>\n",
       "      <td>sell</td>\n",
       "      <td>8</td>\n",
       "      <td>-1.000000e+00</td>\n",
       "      <td>8.000000e+00</td>\n",
       "    </tr>\n",
       "    <tr>\n",
       "      <th>13</th>\n",
       "      <td>2020-01-01 22:00:00</td>\n",
       "      <td>buy</td>\n",
       "      <td>2</td>\n",
       "      <td>1.000000e+00</td>\n",
       "      <td>-2.000000e+00</td>\n",
       "    </tr>\n",
       "    <tr>\n",
       "      <th>14</th>\n",
       "      <td>2020-01-01 23:00:00</td>\n",
       "      <td>buy</td>\n",
       "      <td>3</td>\n",
       "      <td>1.000000e+00</td>\n",
       "      <td>-3.000000e+00</td>\n",
       "    </tr>\n",
       "    <tr>\n",
       "      <th>15</th>\n",
       "      <td>2020-01-02 00:00:00</td>\n",
       "      <td>buy</td>\n",
       "      <td>2</td>\n",
       "      <td>3.442013e-01</td>\n",
       "      <td>-6.884026e-01</td>\n",
       "    </tr>\n",
       "    <tr>\n",
       "      <th>16</th>\n",
       "      <td>2020-01-02 02:00:00</td>\n",
       "      <td>sell</td>\n",
       "      <td>8</td>\n",
       "      <td>-1.000000e+00</td>\n",
       "      <td>8.000000e+00</td>\n",
       "    </tr>\n",
       "    <tr>\n",
       "      <th>17</th>\n",
       "      <td>2020-01-02 03:00:00</td>\n",
       "      <td>sell</td>\n",
       "      <td>7</td>\n",
       "      <td>-1.000000e+00</td>\n",
       "      <td>7.000000e+00</td>\n",
       "    </tr>\n",
       "    <tr>\n",
       "      <th>18</th>\n",
       "      <td>2020-01-02 04:00:00</td>\n",
       "      <td>sell</td>\n",
       "      <td>9</td>\n",
       "      <td>-1.000000e+00</td>\n",
       "      <td>9.000000e+00</td>\n",
       "    </tr>\n",
       "  </tbody>\n",
       "</table>\n",
       "</div>"
      ],
      "text/plain": [
       "              datetime transaction_type  price_eur_per_MWh    volume_MWh  \\\n",
       "0  2020-01-01 04:00:00              buy                  3  1.000000e+00   \n",
       "1  2020-01-01 05:00:00             sell                  7 -1.000000e+00   \n",
       "2  2020-01-01 06:00:00             sell                  8 -1.000000e+00   \n",
       "3  2020-01-01 07:00:00              buy                  3  1.000000e+00   \n",
       "4  2020-01-01 10:00:00             sell                  9 -1.000000e+00   \n",
       "5  2020-01-01 11:00:00             sell                  7 -7.583326e-01   \n",
       "6  2020-01-01 12:00:00             sell                  8  1.064889e-16   \n",
       "7  2020-01-01 13:00:00              buy                  1  1.000000e+00   \n",
       "8  2020-01-01 14:00:00              buy                  2  1.000000e+00   \n",
       "9  2020-01-01 16:00:00             sell                  9 -1.000000e+00   \n",
       "10 2020-01-01 17:00:00              buy                  0  1.000000e+00   \n",
       "11 2020-01-01 18:00:00              buy                  0  1.000000e+00   \n",
       "12 2020-01-01 21:00:00             sell                  8 -1.000000e+00   \n",
       "13 2020-01-01 22:00:00              buy                  2  1.000000e+00   \n",
       "14 2020-01-01 23:00:00              buy                  3  1.000000e+00   \n",
       "15 2020-01-02 00:00:00              buy                  2  3.442013e-01   \n",
       "16 2020-01-02 02:00:00             sell                  8 -1.000000e+00   \n",
       "17 2020-01-02 03:00:00             sell                  7 -1.000000e+00   \n",
       "18 2020-01-02 04:00:00             sell                  9 -1.000000e+00   \n",
       "\n",
       "     revenue_eur  \n",
       "0  -3.000000e+00  \n",
       "1   7.000000e+00  \n",
       "2   8.000000e+00  \n",
       "3  -3.000000e+00  \n",
       "4   9.000000e+00  \n",
       "5   5.308328e+00  \n",
       "6  -8.519108e-16  \n",
       "7  -1.000000e+00  \n",
       "8  -2.000000e+00  \n",
       "9   9.000000e+00  \n",
       "10 -0.000000e+00  \n",
       "11 -0.000000e+00  \n",
       "12  8.000000e+00  \n",
       "13 -2.000000e+00  \n",
       "14 -3.000000e+00  \n",
       "15 -6.884026e-01  \n",
       "16  8.000000e+00  \n",
       "17  7.000000e+00  \n",
       "18  9.000000e+00  "
      ]
     },
     "execution_count": 6,
     "metadata": {},
     "output_type": "execute_result"
    }
   ],
   "source": [
    "myBattery.applications.arbitrage(price_list, buy_price, sell_price)"
   ]
  },
  {
   "cell_type": "code",
   "execution_count": 6,
   "metadata": {},
   "outputs": [
    {
     "data": {
      "text/html": [
       "<div>\n",
       "<style scoped>\n",
       "    .dataframe tbody tr th:only-of-type {\n",
       "        vertical-align: middle;\n",
       "    }\n",
       "\n",
       "    .dataframe tbody tr th {\n",
       "        vertical-align: top;\n",
       "    }\n",
       "\n",
       "    .dataframe thead th {\n",
       "        text-align: right;\n",
       "    }\n",
       "</style>\n",
       "<table border=\"1\" class=\"dataframe\">\n",
       "  <thead>\n",
       "    <tr style=\"text-align: right;\">\n",
       "      <th></th>\n",
       "      <th>datetime</th>\n",
       "      <th>soc</th>\n",
       "      <th>power_output</th>\n",
       "      <th>energy_output</th>\n",
       "    </tr>\n",
       "  </thead>\n",
       "  <tbody>\n",
       "    <tr>\n",
       "      <th>0</th>\n",
       "      <td>2020-01-01 00:00:00</td>\n",
       "      <td>0.500000</td>\n",
       "      <td>0.000000</td>\n",
       "      <td>0.000000</td>\n",
       "    </tr>\n",
       "    <tr>\n",
       "      <th>1</th>\n",
       "      <td>2020-01-01 01:00:00</td>\n",
       "      <td>0.500000</td>\n",
       "      <td>0.000000</td>\n",
       "      <td>0.000000</td>\n",
       "    </tr>\n",
       "    <tr>\n",
       "      <th>2</th>\n",
       "      <td>2020-01-01 02:00:00</td>\n",
       "      <td>0.500000</td>\n",
       "      <td>0.000000</td>\n",
       "      <td>0.000000</td>\n",
       "    </tr>\n",
       "    <tr>\n",
       "      <th>3</th>\n",
       "      <td>2020-01-01 03:00:00</td>\n",
       "      <td>0.500000</td>\n",
       "      <td>0.000000</td>\n",
       "      <td>0.000000</td>\n",
       "    </tr>\n",
       "    <tr>\n",
       "      <th>4</th>\n",
       "      <td>2020-01-01 04:00:00</td>\n",
       "      <td>0.500000</td>\n",
       "      <td>959.166305</td>\n",
       "      <td>959.166305</td>\n",
       "    </tr>\n",
       "    <tr>\n",
       "      <th>5</th>\n",
       "      <td>2020-01-01 05:00:00</td>\n",
       "      <td>0.730000</td>\n",
       "      <td>-1000.000000</td>\n",
       "      <td>-1000.000000</td>\n",
       "    </tr>\n",
       "    <tr>\n",
       "      <th>6</th>\n",
       "      <td>2020-01-01 06:00:00</td>\n",
       "      <td>0.469357</td>\n",
       "      <td>-1000.000000</td>\n",
       "      <td>-1000.000000</td>\n",
       "    </tr>\n",
       "    <tr>\n",
       "      <th>7</th>\n",
       "      <td>2020-01-01 07:00:00</td>\n",
       "      <td>0.208714</td>\n",
       "      <td>959.166305</td>\n",
       "      <td>959.166305</td>\n",
       "    </tr>\n",
       "    <tr>\n",
       "      <th>8</th>\n",
       "      <td>2020-01-01 08:00:00</td>\n",
       "      <td>0.438714</td>\n",
       "      <td>0.000000</td>\n",
       "      <td>0.000000</td>\n",
       "    </tr>\n",
       "    <tr>\n",
       "      <th>9</th>\n",
       "      <td>2020-01-01 09:00:00</td>\n",
       "      <td>0.438714</td>\n",
       "      <td>0.000000</td>\n",
       "      <td>0.000000</td>\n",
       "    </tr>\n",
       "    <tr>\n",
       "      <th>10</th>\n",
       "      <td>2020-01-01 10:00:00</td>\n",
       "      <td>0.438714</td>\n",
       "      <td>-1000.000000</td>\n",
       "      <td>-1000.000000</td>\n",
       "    </tr>\n",
       "    <tr>\n",
       "      <th>11</th>\n",
       "      <td>2020-01-01 11:00:00</td>\n",
       "      <td>0.178071</td>\n",
       "      <td>-683.198610</td>\n",
       "      <td>-683.198610</td>\n",
       "    </tr>\n",
       "    <tr>\n",
       "      <th>12</th>\n",
       "      <td>2020-01-01 12:00:00</td>\n",
       "      <td>0.000000</td>\n",
       "      <td>-0.000000</td>\n",
       "      <td>-0.000000</td>\n",
       "    </tr>\n",
       "    <tr>\n",
       "      <th>13</th>\n",
       "      <td>2020-01-01 13:00:00</td>\n",
       "      <td>0.000000</td>\n",
       "      <td>959.166305</td>\n",
       "      <td>959.166305</td>\n",
       "    </tr>\n",
       "    <tr>\n",
       "      <th>14</th>\n",
       "      <td>2020-01-01 14:00:00</td>\n",
       "      <td>0.230000</td>\n",
       "      <td>959.166305</td>\n",
       "      <td>959.166305</td>\n",
       "    </tr>\n",
       "    <tr>\n",
       "      <th>15</th>\n",
       "      <td>2020-01-01 15:00:00</td>\n",
       "      <td>0.460000</td>\n",
       "      <td>0.000000</td>\n",
       "      <td>0.000000</td>\n",
       "    </tr>\n",
       "    <tr>\n",
       "      <th>16</th>\n",
       "      <td>2020-01-01 16:00:00</td>\n",
       "      <td>0.460000</td>\n",
       "      <td>-1000.000000</td>\n",
       "      <td>-1000.000000</td>\n",
       "    </tr>\n",
       "    <tr>\n",
       "      <th>17</th>\n",
       "      <td>2020-01-01 17:00:00</td>\n",
       "      <td>0.199357</td>\n",
       "      <td>959.166305</td>\n",
       "      <td>959.166305</td>\n",
       "    </tr>\n",
       "    <tr>\n",
       "      <th>18</th>\n",
       "      <td>2020-01-01 18:00:00</td>\n",
       "      <td>0.429357</td>\n",
       "      <td>959.166305</td>\n",
       "      <td>959.166305</td>\n",
       "    </tr>\n",
       "    <tr>\n",
       "      <th>19</th>\n",
       "      <td>2020-01-01 19:00:00</td>\n",
       "      <td>0.659357</td>\n",
       "      <td>0.000000</td>\n",
       "      <td>0.000000</td>\n",
       "    </tr>\n",
       "    <tr>\n",
       "      <th>20</th>\n",
       "      <td>2020-01-01 20:00:00</td>\n",
       "      <td>0.659357</td>\n",
       "      <td>0.000000</td>\n",
       "      <td>0.000000</td>\n",
       "    </tr>\n",
       "    <tr>\n",
       "      <th>21</th>\n",
       "      <td>2020-01-01 21:00:00</td>\n",
       "      <td>0.659357</td>\n",
       "      <td>-1000.000000</td>\n",
       "      <td>-1000.000000</td>\n",
       "    </tr>\n",
       "    <tr>\n",
       "      <th>22</th>\n",
       "      <td>2020-01-01 22:00:00</td>\n",
       "      <td>0.398714</td>\n",
       "      <td>959.166305</td>\n",
       "      <td>959.166305</td>\n",
       "    </tr>\n",
       "    <tr>\n",
       "      <th>23</th>\n",
       "      <td>2020-01-01 23:00:00</td>\n",
       "      <td>0.628714</td>\n",
       "      <td>959.166305</td>\n",
       "      <td>959.166305</td>\n",
       "    </tr>\n",
       "    <tr>\n",
       "      <th>24</th>\n",
       "      <td>2020-01-02 00:00:00</td>\n",
       "      <td>0.858714</td>\n",
       "      <td>589.203497</td>\n",
       "      <td>589.203497</td>\n",
       "    </tr>\n",
       "    <tr>\n",
       "      <th>25</th>\n",
       "      <td>2020-01-02 01:00:00</td>\n",
       "      <td>1.000000</td>\n",
       "      <td>0.000000</td>\n",
       "      <td>0.000000</td>\n",
       "    </tr>\n",
       "    <tr>\n",
       "      <th>26</th>\n",
       "      <td>2020-01-02 02:00:00</td>\n",
       "      <td>1.000000</td>\n",
       "      <td>-1000.000000</td>\n",
       "      <td>-1000.000000</td>\n",
       "    </tr>\n",
       "    <tr>\n",
       "      <th>27</th>\n",
       "      <td>2020-01-02 03:00:00</td>\n",
       "      <td>0.739357</td>\n",
       "      <td>-1000.000000</td>\n",
       "      <td>-1000.000000</td>\n",
       "    </tr>\n",
       "    <tr>\n",
       "      <th>28</th>\n",
       "      <td>2020-01-02 04:00:00</td>\n",
       "      <td>0.478714</td>\n",
       "      <td>-1000.000000</td>\n",
       "      <td>-1000.000000</td>\n",
       "    </tr>\n",
       "  </tbody>\n",
       "</table>\n",
       "</div>"
      ],
      "text/plain": [
       "              datetime       soc  power_output  energy_output\n",
       "0  2020-01-01 00:00:00  0.500000      0.000000       0.000000\n",
       "1  2020-01-01 01:00:00  0.500000      0.000000       0.000000\n",
       "2  2020-01-01 02:00:00  0.500000      0.000000       0.000000\n",
       "3  2020-01-01 03:00:00  0.500000      0.000000       0.000000\n",
       "4  2020-01-01 04:00:00  0.500000    959.166305     959.166305\n",
       "5  2020-01-01 05:00:00  0.730000  -1000.000000   -1000.000000\n",
       "6  2020-01-01 06:00:00  0.469357  -1000.000000   -1000.000000\n",
       "7  2020-01-01 07:00:00  0.208714    959.166305     959.166305\n",
       "8  2020-01-01 08:00:00  0.438714      0.000000       0.000000\n",
       "9  2020-01-01 09:00:00  0.438714      0.000000       0.000000\n",
       "10 2020-01-01 10:00:00  0.438714  -1000.000000   -1000.000000\n",
       "11 2020-01-01 11:00:00  0.178071   -683.198610    -683.198610\n",
       "12 2020-01-01 12:00:00  0.000000     -0.000000      -0.000000\n",
       "13 2020-01-01 13:00:00  0.000000    959.166305     959.166305\n",
       "14 2020-01-01 14:00:00  0.230000    959.166305     959.166305\n",
       "15 2020-01-01 15:00:00  0.460000      0.000000       0.000000\n",
       "16 2020-01-01 16:00:00  0.460000  -1000.000000   -1000.000000\n",
       "17 2020-01-01 17:00:00  0.199357    959.166305     959.166305\n",
       "18 2020-01-01 18:00:00  0.429357    959.166305     959.166305\n",
       "19 2020-01-01 19:00:00  0.659357      0.000000       0.000000\n",
       "20 2020-01-01 20:00:00  0.659357      0.000000       0.000000\n",
       "21 2020-01-01 21:00:00  0.659357  -1000.000000   -1000.000000\n",
       "22 2020-01-01 22:00:00  0.398714    959.166305     959.166305\n",
       "23 2020-01-01 23:00:00  0.628714    959.166305     959.166305\n",
       "24 2020-01-02 00:00:00  0.858714    589.203497     589.203497\n",
       "25 2020-01-02 01:00:00  1.000000      0.000000       0.000000\n",
       "26 2020-01-02 02:00:00  1.000000  -1000.000000   -1000.000000\n",
       "27 2020-01-02 03:00:00  0.739357  -1000.000000   -1000.000000\n",
       "28 2020-01-02 04:00:00  0.478714  -1000.000000   -1000.000000"
      ]
     },
     "execution_count": 6,
     "metadata": {},
     "output_type": "execute_result"
    }
   ],
   "source": [
    "myBattery.get_battery_curves()"
   ]
  },
  {
   "cell_type": "code",
   "execution_count": 52,
   "metadata": {},
   "outputs": [],
   "source": [
    "myBattery.charge_max_possible()"
   ]
  },
  {
   "cell_type": "code",
   "execution_count": 53,
   "metadata": {},
   "outputs": [],
   "source": [
    "myBattery.discharge_max_possible()"
   ]
  },
  {
   "cell_type": "code",
   "execution_count": 57,
   "metadata": {},
   "outputs": [],
   "source": [
    "myBattery.do_nothing()"
   ]
  },
  {
   "cell_type": "code",
   "execution_count": 58,
   "metadata": {},
   "outputs": [
    {
     "data": {
      "text/html": [
       "<div>\n",
       "<style scoped>\n",
       "    .dataframe tbody tr th:only-of-type {\n",
       "        vertical-align: middle;\n",
       "    }\n",
       "\n",
       "    .dataframe tbody tr th {\n",
       "        vertical-align: top;\n",
       "    }\n",
       "\n",
       "    .dataframe thead th {\n",
       "        text-align: right;\n",
       "    }\n",
       "</style>\n",
       "<table border=\"1\" class=\"dataframe\">\n",
       "  <thead>\n",
       "    <tr style=\"text-align: right;\">\n",
       "      <th></th>\n",
       "      <th>datetime</th>\n",
       "      <th>soc</th>\n",
       "      <th>power_output</th>\n",
       "      <th>energy_output</th>\n",
       "    </tr>\n",
       "  </thead>\n",
       "  <tbody>\n",
       "    <tr>\n",
       "      <th>0</th>\n",
       "      <td>2020-01-01 00:00:00</td>\n",
       "      <td>0.5</td>\n",
       "      <td>521.286035</td>\n",
       "      <td>521.286035</td>\n",
       "    </tr>\n",
       "    <tr>\n",
       "      <th>1</th>\n",
       "      <td>2020-01-01 01:00:00</td>\n",
       "      <td>1.0</td>\n",
       "      <td>-959.166305</td>\n",
       "      <td>-959.166305</td>\n",
       "    </tr>\n",
       "    <tr>\n",
       "      <th>2</th>\n",
       "      <td>2020-01-01 02:00:00</td>\n",
       "      <td>0.0</td>\n",
       "      <td>1042.572070</td>\n",
       "      <td>1042.572070</td>\n",
       "    </tr>\n",
       "    <tr>\n",
       "      <th>3</th>\n",
       "      <td>2020-01-01 03:00:00</td>\n",
       "      <td>1.0</td>\n",
       "      <td>-959.166305</td>\n",
       "      <td>-959.166305</td>\n",
       "    </tr>\n",
       "    <tr>\n",
       "      <th>4</th>\n",
       "      <td>2020-01-01 04:00:00</td>\n",
       "      <td>0.0</td>\n",
       "      <td>1042.572070</td>\n",
       "      <td>1042.572070</td>\n",
       "    </tr>\n",
       "    <tr>\n",
       "      <th>5</th>\n",
       "      <td>2020-01-01 05:00:00</td>\n",
       "      <td>1.0</td>\n",
       "      <td>-959.166305</td>\n",
       "      <td>-959.166305</td>\n",
       "    </tr>\n",
       "    <tr>\n",
       "      <th>6</th>\n",
       "      <td>2020-01-01 06:00:00</td>\n",
       "      <td>0.0</td>\n",
       "      <td>1042.572070</td>\n",
       "      <td>1042.572070</td>\n",
       "    </tr>\n",
       "    <tr>\n",
       "      <th>7</th>\n",
       "      <td>2020-01-01 07:00:00</td>\n",
       "      <td>1.0</td>\n",
       "      <td>-959.166305</td>\n",
       "      <td>-959.166305</td>\n",
       "    </tr>\n",
       "    <tr>\n",
       "      <th>8</th>\n",
       "      <td>2020-01-01 08:00:00</td>\n",
       "      <td>0.0</td>\n",
       "      <td>1042.572070</td>\n",
       "      <td>1042.572070</td>\n",
       "    </tr>\n",
       "    <tr>\n",
       "      <th>9</th>\n",
       "      <td>2020-01-01 09:00:00</td>\n",
       "      <td>1.0</td>\n",
       "      <td>-959.166305</td>\n",
       "      <td>-959.166305</td>\n",
       "    </tr>\n",
       "    <tr>\n",
       "      <th>10</th>\n",
       "      <td>2020-01-01 10:00:00</td>\n",
       "      <td>0.0</td>\n",
       "      <td>1042.572070</td>\n",
       "      <td>1042.572070</td>\n",
       "    </tr>\n",
       "    <tr>\n",
       "      <th>11</th>\n",
       "      <td>2020-01-01 11:00:00</td>\n",
       "      <td>1.0</td>\n",
       "      <td>-959.166305</td>\n",
       "      <td>-959.166305</td>\n",
       "    </tr>\n",
       "    <tr>\n",
       "      <th>12</th>\n",
       "      <td>2020-01-01 12:00:00</td>\n",
       "      <td>0.0</td>\n",
       "      <td>1042.572070</td>\n",
       "      <td>1042.572070</td>\n",
       "    </tr>\n",
       "    <tr>\n",
       "      <th>13</th>\n",
       "      <td>2020-01-01 13:00:00</td>\n",
       "      <td>1.0</td>\n",
       "      <td>-959.166305</td>\n",
       "      <td>-959.166305</td>\n",
       "    </tr>\n",
       "    <tr>\n",
       "      <th>14</th>\n",
       "      <td>2020-01-01 14:00:00</td>\n",
       "      <td>0.0</td>\n",
       "      <td>1042.572070</td>\n",
       "      <td>1042.572070</td>\n",
       "    </tr>\n",
       "    <tr>\n",
       "      <th>15</th>\n",
       "      <td>2020-01-01 15:00:00</td>\n",
       "      <td>1.0</td>\n",
       "      <td>-959.166305</td>\n",
       "      <td>-959.166305</td>\n",
       "    </tr>\n",
       "    <tr>\n",
       "      <th>16</th>\n",
       "      <td>2020-01-01 16:00:00</td>\n",
       "      <td>0.0</td>\n",
       "      <td>1042.572070</td>\n",
       "      <td>1042.572070</td>\n",
       "    </tr>\n",
       "    <tr>\n",
       "      <th>17</th>\n",
       "      <td>2020-01-01 17:00:00</td>\n",
       "      <td>1.0</td>\n",
       "      <td>-959.166305</td>\n",
       "      <td>-959.166305</td>\n",
       "    </tr>\n",
       "    <tr>\n",
       "      <th>18</th>\n",
       "      <td>2020-01-01 18:00:00</td>\n",
       "      <td>0.0</td>\n",
       "      <td>1042.572070</td>\n",
       "      <td>1042.572070</td>\n",
       "    </tr>\n",
       "    <tr>\n",
       "      <th>19</th>\n",
       "      <td>2020-01-01 19:00:00</td>\n",
       "      <td>1.0</td>\n",
       "      <td>-959.166305</td>\n",
       "      <td>-959.166305</td>\n",
       "    </tr>\n",
       "    <tr>\n",
       "      <th>20</th>\n",
       "      <td>2020-01-01 20:00:00</td>\n",
       "      <td>0.0</td>\n",
       "      <td>0.000000</td>\n",
       "      <td>0.000000</td>\n",
       "    </tr>\n",
       "    <tr>\n",
       "      <th>21</th>\n",
       "      <td>2020-01-01 21:00:00</td>\n",
       "      <td>0.0</td>\n",
       "      <td>0.000000</td>\n",
       "      <td>0.000000</td>\n",
       "    </tr>\n",
       "    <tr>\n",
       "      <th>22</th>\n",
       "      <td>2020-01-01 22:00:00</td>\n",
       "      <td>0.0</td>\n",
       "      <td>0.000000</td>\n",
       "      <td>0.000000</td>\n",
       "    </tr>\n",
       "    <tr>\n",
       "      <th>23</th>\n",
       "      <td>2020-01-01 23:00:00</td>\n",
       "      <td>0.0</td>\n",
       "      <td>0.000000</td>\n",
       "      <td>0.000000</td>\n",
       "    </tr>\n",
       "  </tbody>\n",
       "</table>\n",
       "</div>"
      ],
      "text/plain": [
       "              datetime  soc  power_output  energy_output\n",
       "0  2020-01-01 00:00:00  0.5    521.286035     521.286035\n",
       "1  2020-01-01 01:00:00  1.0   -959.166305    -959.166305\n",
       "2  2020-01-01 02:00:00  0.0   1042.572070    1042.572070\n",
       "3  2020-01-01 03:00:00  1.0   -959.166305    -959.166305\n",
       "4  2020-01-01 04:00:00  0.0   1042.572070    1042.572070\n",
       "5  2020-01-01 05:00:00  1.0   -959.166305    -959.166305\n",
       "6  2020-01-01 06:00:00  0.0   1042.572070    1042.572070\n",
       "7  2020-01-01 07:00:00  1.0   -959.166305    -959.166305\n",
       "8  2020-01-01 08:00:00  0.0   1042.572070    1042.572070\n",
       "9  2020-01-01 09:00:00  1.0   -959.166305    -959.166305\n",
       "10 2020-01-01 10:00:00  0.0   1042.572070    1042.572070\n",
       "11 2020-01-01 11:00:00  1.0   -959.166305    -959.166305\n",
       "12 2020-01-01 12:00:00  0.0   1042.572070    1042.572070\n",
       "13 2020-01-01 13:00:00  1.0   -959.166305    -959.166305\n",
       "14 2020-01-01 14:00:00  0.0   1042.572070    1042.572070\n",
       "15 2020-01-01 15:00:00  1.0   -959.166305    -959.166305\n",
       "16 2020-01-01 16:00:00  0.0   1042.572070    1042.572070\n",
       "17 2020-01-01 17:00:00  1.0   -959.166305    -959.166305\n",
       "18 2020-01-01 18:00:00  0.0   1042.572070    1042.572070\n",
       "19 2020-01-01 19:00:00  1.0   -959.166305    -959.166305\n",
       "20 2020-01-01 20:00:00  0.0      0.000000       0.000000\n",
       "21 2020-01-01 21:00:00  0.0      0.000000       0.000000\n",
       "22 2020-01-01 22:00:00  0.0      0.000000       0.000000\n",
       "23 2020-01-01 23:00:00  0.0      0.000000       0.000000"
      ]
     },
     "execution_count": 58,
     "metadata": {},
     "output_type": "execute_result"
    }
   ],
   "source": [
    "myBattery.get_battery_curves()"
   ]
  },
  {
   "cell_type": "code",
   "execution_count": 59,
   "metadata": {},
   "outputs": [
    {
     "data": {
      "text/plain": [
       "9.75"
      ]
     },
     "execution_count": 59,
     "metadata": {},
     "output_type": "execute_result"
    }
   ],
   "source": [
    "myBattery.get_efc()"
   ]
  },
  {
   "cell_type": "code",
   "execution_count": 11,
   "metadata": {},
   "outputs": [],
   "source": [
    "myBattery.reset()"
   ]
  },
  {
   "cell_type": "code",
   "execution_count": 25,
   "metadata": {},
   "outputs": [],
   "source": [
    "myBattery.charge_with_power(50)"
   ]
  },
  {
   "cell_type": "markdown",
   "metadata": {},
   "source": [
    "Content of the file battery.py:"
   ]
  },
  {
   "cell_type": "code",
   "execution_count": 39,
   "metadata": {},
   "outputs": [],
   "source": [
    "import pandas as pd\n",
    "import numpy as np\n",
    "import matplotlib.pyplot as plt\n",
    "\n",
    "class Battery:\n",
    "    def __init__(self, max_power = 1000, net_capacity = 1000, round_trip_efficiency = 0.92, initial_soc = 0.5, timestep_minutes = 60):\n",
    "        \n",
    "        from applications import Applications\n",
    "        \n",
    "        self.power = max_power\n",
    "        self.capacity = net_capacity\n",
    "        self.eff_chg = np.sqrt(round_trip_efficiency)\n",
    "        self.eff_dch = np.sqrt(round_trip_efficiency)\n",
    "        self.soc = 0.5\n",
    "        self.timestep_minutes = timestep_minutes\n",
    "        self.efc = 0\n",
    "        self.power_curve = []\n",
    "        self.soc_curve = []\n",
    "        self.datetime_curve = []\n",
    "        self.energy_curve = []\n",
    "        self.applications = Applications(self)\n",
    "        self.start_datetime = pd.datetime(2020,1,1,0,0)\n",
    "    \n",
    "    def reset(self):\n",
    "        '''Resets the values for the SOC and EFC as well as the power and capacity curve.\n",
    "        \n",
    "        INPUT: None\n",
    "        OUTPUT: None\n",
    "        '''\n",
    "        self.power_curve = []\n",
    "        self.soc_curve = []\n",
    "        self.energy_curve = []\n",
    "        self.datetime_curve = []\n",
    "        self.soc = 0.5 \n",
    "        self.efc = 0\n",
    "        \n",
    "    def get_battery_curves(self):\n",
    "        '''Returns a pandas dataframe containing a power curve and an soc curve of the battery activiy.\n",
    "        \n",
    "        INPUT: None\n",
    "        OUTPUT: Pandas Dataframe\n",
    "        '''\n",
    "        \n",
    "        return pd.DataFrame({'datetime':self.datetime_curve, 'soc':self.soc_curve, 'power_output':self.power_curve, 'energy_output':self.energy_curve})\n",
    "    \n",
    "    def charge_with_energy(self, energy, warnings_on = True):\n",
    "        '''\n",
    "        Charges the Battery object with the amount of energy specified. \n",
    "        Due to charging losses, not the whole amount of energy specified will be stored inside the battery.\n",
    "        This creates a new record in the battery curve, including a new timestamp, power- and soc-value.\n",
    "        Optionally prints out a warning if the amount of energy specified exceeds the possible amount.\n",
    "        \n",
    "        INPUT:\n",
    "        energy - amount of energy to be fed into the battery before charging losses (kWh)\n",
    "        warnings_on (optional) - if True, the function gives a warning if the specified amount exceeds the possible limit or is negative\n",
    "        \n",
    "        OUTPUT: None\n",
    "        '''\n",
    "        specified_charging_energy = energy\n",
    "        charging_energy = specified_charging_energy\n",
    "        \n",
    "        # calculate amount of energy that can be charged based on the current soc and the battery capacity\n",
    "        max_possible_charging_energy_soc = (1.0-self.soc)*self.capacity/self.eff_chg\n",
    "        \n",
    "        # calculate amount of energy that can be charged based on the max battery system power\n",
    "        max_possible_charging_energy_power = self.power * self.eff_chg * self.timestep_minutes/60\n",
    "        \n",
    "        # take min value of the previous two\n",
    "        max_possible_charging_energy = min(max_possible_charging_energy_soc, max_possible_charging_energy_power)\n",
    "        \n",
    "        # calculate actual charging energy based on specified amount and limit\n",
    "        if specified_charging_energy > max_possible_charging_energy:\n",
    "            charging_energy = max_possible_charging_energy\n",
    "            if warnings_on:\n",
    "                print('Specified energy exceeds technical limit. Amount is reduced.')\n",
    "        elif specified_charging_energy < 0:\n",
    "            charging_energy = 0\n",
    "            if warnings_on:\n",
    "                print('Specified energy must be a positive value. Value set to 0.')\n",
    "        \n",
    "        # Perform actual battery charging      \n",
    "            \n",
    "        # add records to datetime-, power- and soc-list. Each entry represents the status of the system \n",
    "        # at the beginning of the specified time. That means, that the resulting soc will be added with \n",
    "        # a 1-step-delay compared to the power.\n",
    "        \n",
    "        # add record to datetime list\n",
    "        if len(self.datetime_curve) == 0:\n",
    "            # no entries in the lists so far; creating first one from start_datetime variable\n",
    "            self.datetime_curve.append(self.start_datetime)\n",
    "        else:\n",
    "            self.datetime_curve.append(self.datetime_curve[-1] + pd.Timedelta(minutes = self.timestep_minutes))\n",
    "        \n",
    "        # add record to power list; positive values for charging\n",
    "        charging_power = charging_energy*60/self.timestep_minutes\n",
    "        self.power_curve.append(charging_power)\n",
    "        \n",
    "        # add record to energy list; positive values for charging\n",
    "        self.energy_curve.append(charging_power*self.timestep_minutes/60)\n",
    "        \n",
    "        # first add previous soc-record to soc-list...\n",
    "        self.soc_curve.append(self.soc)\n",
    "        \n",
    "        # ...now change soc-value for beginning of next timestep\n",
    "        self.soc = self.soc + charging_energy*self.eff_chg/self.capacity\n",
    "        \n",
    "        \n",
    "    def charge_with_power(self, power, warnings_on = True):\n",
    "        '''\n",
    "        Charges the Battery object with the power specified. \n",
    "        Due to charging losses, not the whole amount of energy specified will be stored inside the battery.\n",
    "        This creates a new record in the battery curve, including a new timestamp, power- and soc-value.\n",
    "        Optionally prints out a warning if the amount of energy specified exceeds the possible amount.\n",
    "        \n",
    "        INPUT:\n",
    "        power - amount of energy to be fed into the battery (kW)\n",
    "        warnings_on (optional) - if True, the function gives a warning if the specified amount exceeds the possible limit or is negative\n",
    "        \n",
    "        OUTPUT: None\n",
    "        '''\n",
    "        \n",
    "        # convert from specified power to energy and then pass to function charge_with_energy(...)\n",
    "        energy = power*self.timestep_minutes/60\n",
    "        \n",
    "        self.charge_with_energy(energy, warnings_on)\n",
    "        \n",
    "    def charge_max_possible(self):\n",
    "        '''\n",
    "        Charges the Battery object with the maximum possible power specified based on the current soc and the maximum system power input. \n",
    "        This creates a new record in the battery curve, including a new timestamp, power- and soc-value.\n",
    "        \n",
    "        INPUT: None\n",
    "        OUTPUT: None\n",
    "        '''    \n",
    "        \n",
    "        self.charge_with_power(self.power, warnings_on = False)\n",
    "        \n",
    "    def discharge_with_energy(self, energy, warnings_on = True):\n",
    "        '''\n",
    "        Discharges the Battery object with the amount of energy specified. \n",
    "        The specified energy is the energy that will actually be available outside the battery. \n",
    "        Due to charging losses, the amount that is \"lost\" from inside the battery is larger than this.\n",
    "        This creates a new record in the battery curve, including a new timestamp, power- and soc-value.\n",
    "        Optionally prints out a warning if the amount of energy specified exceeds the possible amount.\n",
    "        \n",
    "        INPUT:\n",
    "        energy - amount of energy to be provided from the battery (kWh)\n",
    "        warnings_on (optional) - if True, the function gives a warning if the specified amount exceeds the possible limit or is negative\n",
    "        \n",
    "        OUTPUT: None\n",
    "        '''\n",
    "        specified_discharging_energy = energy\n",
    "        discharging_energy = specified_discharging_energy\n",
    "        \n",
    "        # calculate amount of energy that can be provided based on the current soc and the battery capacity\n",
    "        max_possible_discharging_energy_soc = self.soc*self.capacity*self.eff_dch\n",
    "        \n",
    "        # calculate amount of energy that can be provided based on the max battery system power\n",
    "        max_possible_discharging_energy_power = self.power * self.timestep_minutes/60\n",
    "        \n",
    "        # take min value of the previous two\n",
    "        max_possible_discharging_energy = min(max_possible_discharging_energy_soc, max_possible_discharging_energy_power)\n",
    "        \n",
    "        # calculate actual discharging energy based on specified amount and limit\n",
    "        if specified_discharging_energy > max_possible_discharging_energy:\n",
    "            discharging_energy = max_possible_discharging_energy\n",
    "            if warnings_on:\n",
    "                print('Specified energy exceeds technical limit. Amount is reduced.')\n",
    "        elif specified_discharging_energy < 0:\n",
    "            discharging_energy = 0\n",
    "            if warnings_on:\n",
    "                print('Specified energy must be a positive value. Value set to 0.')\n",
    "        \n",
    "        # Perform actual battery discharging      \n",
    "            \n",
    "        # add records to datetime-, power- and soc-list. Each entry represents the status of the system \n",
    "        # at the beginning of the specified time. That means, that the resulting soc will be added with \n",
    "        # a 1-step-delay compared to the power.\n",
    "        \n",
    "        # add record to datetime list\n",
    "        if len(self.datetime_curve) == 0:\n",
    "            # no entries in the lists so far; creating first one from start_datetime variable\n",
    "            self.datetime_curve.append(self.start_datetime)\n",
    "        else:\n",
    "            self.datetime_curve.append(self.datetime_curve[-1] + pd.Timedelta(minutes = self.timestep_minutes))\n",
    "        \n",
    "        # add record to power list; negative values for discharging\n",
    "        discharging_power = discharging_energy*60/self.timestep_minutes\n",
    "        self.power_curve.append(-discharging_power)\n",
    "        \n",
    "        # add record to energy list; negative values for discharging\n",
    "        self.energy_curve.append(-discharging_power*self.timestep_minutes/60)\n",
    "        \n",
    "        # first add previous soc-record to soc-list...\n",
    "        self.soc_curve.append(self.soc)\n",
    "        \n",
    "        # ...now change soc-value for beginning of next timestep\n",
    "        self.soc = self.soc - discharging_energy/(self.capacity*self.eff_dch)\n",
    "        \n",
    "        \n",
    "    def discharge_with_power(self, power, warnings_on = True):\n",
    "        '''\n",
    "        Discharges the Battery object with the power specified. \n",
    "        The specified value is the power that will actually be available outside the battery. \n",
    "        This creates a new record in the battery curve, including a new timestamp, power- and soc-value.\n",
    "        Optionally prints out a warning if the amount of energy specified exceeds the possible amount.\n",
    "        \n",
    "        INPUT:\n",
    "        power - amount of energy to be provided by the battery (kW)\n",
    "        warnings_on (optional) - if True, the function gives a warning if the specified amount exceeds the possible limit or is negative\n",
    "        \n",
    "        OUTPUT: None\n",
    "        '''\n",
    "        \n",
    "        # convert from specified power to energy and then pass to function charge_with_energy(...)\n",
    "        energy = power*self.timestep_minutes/60\n",
    "        \n",
    "        self.discharge_with_energy(energy, warnings_on)\n",
    "        \n",
    "    def discharge_max_possible(self):\n",
    "        '''\n",
    "        Discharges the Battery object with the maximum possible power specified based on the current soc and the maximum system power input. \n",
    "        This creates a new record in the battery curve, including a new timestamp, power- and soc-value.\n",
    "        \n",
    "        INPUT: None\n",
    "        OUTPUT: None\n",
    "        '''    \n",
    "        \n",
    "        self.discharge_with_power(self.power, warnings_on = False)\n",
    "        \n",
    "    def do_nothing(self):\n",
    "        '''\n",
    "        The battery will neither charge nor discharge for one timestep.\n",
    "        This creates a new record in the battery curve, including a new timestamp, power- and soc-value.\n",
    "        \n",
    "        INPUT: None\n",
    "        OUTPUT: None\n",
    "        ''' \n",
    "        \n",
    "        self.charge_with_power(0, warnings_on = False)\n",
    "        \n",
    "    def get_efc(self):\n",
    "        '''\n",
    "        Returns amount of equivalent full cycles based on the Battery SOC record. \n",
    "        One equivalent full cycle is equal to one complete charge- and discharge cycle of the battery.\n",
    "        \n",
    "        INPUT: None\n",
    "        OUTPUT: efc - Equivalent full cycles of Battery (float)\n",
    "        ''' \n",
    "        \n",
    "        efc = 0\n",
    "        if len(self.soc_curve) < 2:\n",
    "            efc = 0\n",
    "        else:\n",
    "            # create two soc-lists: one with a dropped first element, one with a dropped last element.\n",
    "            soc_curve_drop_first = self.soc_curve[1:]\n",
    "            soc_curve_drop_last = self.soc_curve[:-2]\n",
    "            \n",
    "            # create a list with the absolute values of the differences of these lists:\n",
    "            soc_curve_abs_diffs = [abs(f-l) for f,l in zip(soc_curve_drop_first, soc_curve_drop_last)]\n",
    "            \n",
    "            # calculate efc by adding the absolute differences and dividing by 2 (for charge- & discharge)\n",
    "            efc = sum(soc_curve_abs_diffs)/2\n",
    "            \n",
    "        return efc"
   ]
  },
  {
   "cell_type": "code",
   "execution_count": 31,
   "metadata": {},
   "outputs": [],
   "source": [
    "x = [1,2,3,4,5]"
   ]
  },
  {
   "cell_type": "code",
   "execution_count": 33,
   "metadata": {},
   "outputs": [
    {
     "data": {
      "text/plain": [
       "[1, 2, 3, 4]"
      ]
     },
     "execution_count": 33,
     "metadata": {},
     "output_type": "execute_result"
    }
   ],
   "source": [
    "x[:-1]"
   ]
  },
  {
   "cell_type": "code",
   "execution_count": 34,
   "metadata": {},
   "outputs": [
    {
     "data": {
      "text/plain": [
       "[2, 3, 4, 5]"
      ]
     },
     "execution_count": 34,
     "metadata": {},
     "output_type": "execute_result"
    }
   ],
   "source": [
    "x[1:]"
   ]
  },
  {
   "cell_type": "code",
   "execution_count": null,
   "metadata": {},
   "outputs": [],
   "source": [
    "pd.Datetime()"
   ]
  },
  {
   "cell_type": "markdown",
   "metadata": {},
   "source": [
    "content of the file applications.py"
   ]
  },
  {
   "cell_type": "code",
   "execution_count": 54,
   "metadata": {},
   "outputs": [],
   "source": [
    "import pandas as pd\n",
    "import numpy as np\n",
    "        \n",
    "\n",
    "class Applications:\n",
    "    def __init__(self, battery_object):\n",
    "        \n",
    "        from battery import Battery\n",
    "        self.battery = battery_object\n",
    "\n",
    "    def show_soc(self):\n",
    "        print(self.battery.soc)"
   ]
  },
  {
   "cell_type": "code",
   "execution_count": 22,
   "metadata": {},
   "outputs": [],
   "source": [
    "my_battery = Battery()"
   ]
  },
  {
   "cell_type": "code",
   "execution_count": 25,
   "metadata": {},
   "outputs": [
    {
     "name": "stdout",
     "output_type": "stream",
     "text": [
      "0.5\n"
     ]
    }
   ],
   "source": [
    "my_battery.applications.show_soc()"
   ]
  },
  {
   "cell_type": "code",
   "execution_count": null,
   "metadata": {},
   "outputs": [],
   "source": []
  },
  {
   "cell_type": "code",
   "execution_count": null,
   "metadata": {},
   "outputs": [],
   "source": []
  },
  {
   "cell_type": "code",
   "execution_count": 42,
   "metadata": {},
   "outputs": [],
   "source": [
    "loadcurve = pd.read_csv('Data/Glueckauf.csv')"
   ]
  },
  {
   "cell_type": "code",
   "execution_count": 43,
   "metadata": {},
   "outputs": [
    {
     "data": {
      "text/html": [
       "<div>\n",
       "<style scoped>\n",
       "    .dataframe tbody tr th:only-of-type {\n",
       "        vertical-align: middle;\n",
       "    }\n",
       "\n",
       "    .dataframe tbody tr th {\n",
       "        vertical-align: top;\n",
       "    }\n",
       "\n",
       "    .dataframe thead th {\n",
       "        text-align: right;\n",
       "    }\n",
       "</style>\n",
       "<table border=\"1\" class=\"dataframe\">\n",
       "  <thead>\n",
       "    <tr style=\"text-align: right;\">\n",
       "      <th></th>\n",
       "      <th>Datum</th>\n",
       "      <th>von</th>\n",
       "      <th>bis</th>\n",
       "      <th>Wert</th>\n",
       "    </tr>\n",
       "  </thead>\n",
       "  <tbody>\n",
       "    <tr>\n",
       "      <th>0</th>\n",
       "      <td>01.01.2018</td>\n",
       "      <td>00:00</td>\n",
       "      <td>00:15</td>\n",
       "      <td>876.00</td>\n",
       "    </tr>\n",
       "    <tr>\n",
       "      <th>1</th>\n",
       "      <td>01.01.2018</td>\n",
       "      <td>00:15</td>\n",
       "      <td>00:30</td>\n",
       "      <td>868.00</td>\n",
       "    </tr>\n",
       "    <tr>\n",
       "      <th>2</th>\n",
       "      <td>01.01.2018</td>\n",
       "      <td>00:30</td>\n",
       "      <td>00:45</td>\n",
       "      <td>872.00</td>\n",
       "    </tr>\n",
       "    <tr>\n",
       "      <th>3</th>\n",
       "      <td>01.01.2018</td>\n",
       "      <td>00:45</td>\n",
       "      <td>01:00</td>\n",
       "      <td>872.00</td>\n",
       "    </tr>\n",
       "    <tr>\n",
       "      <th>4</th>\n",
       "      <td>01.01.2018</td>\n",
       "      <td>01:00</td>\n",
       "      <td>01:15</td>\n",
       "      <td>880.00</td>\n",
       "    </tr>\n",
       "  </tbody>\n",
       "</table>\n",
       "</div>"
      ],
      "text/plain": [
       "        Datum    von    bis    Wert\n",
       "0  01.01.2018  00:00  00:15  876.00\n",
       "1  01.01.2018  00:15  00:30  868.00\n",
       "2  01.01.2018  00:30  00:45  872.00\n",
       "3  01.01.2018  00:45  01:00  872.00\n",
       "4  01.01.2018  01:00  01:15  880.00"
      ]
     },
     "execution_count": 43,
     "metadata": {},
     "output_type": "execute_result"
    }
   ],
   "source": [
    "loadcurve.head()"
   ]
  },
  {
   "cell_type": "code",
   "execution_count": 44,
   "metadata": {},
   "outputs": [],
   "source": [
    "loadcurve['power'] = loadcurve.Wert"
   ]
  },
  {
   "cell_type": "markdown",
   "metadata": {},
   "source": [
    "Combine date and time to datetime column"
   ]
  },
  {
   "cell_type": "code",
   "execution_count": 45,
   "metadata": {},
   "outputs": [],
   "source": [
    "loadcurve['datetime'] = loadcurve['Datum'] + ' ' + loadcurve['von']"
   ]
  },
  {
   "cell_type": "code",
   "execution_count": 46,
   "metadata": {},
   "outputs": [],
   "source": [
    "loadcurve ['datetime'] = pd.to_datetime(loadcurve.datetime)"
   ]
  },
  {
   "cell_type": "code",
   "execution_count": 47,
   "metadata": {},
   "outputs": [],
   "source": [
    "loadcurve = pd.DataFrame({'datetime':loadcurve.datetime, 'power':loadcurve.power})"
   ]
  },
  {
   "cell_type": "code",
   "execution_count": 48,
   "metadata": {},
   "outputs": [],
   "source": [
    "loadcurve.power = [pd.to_numeric(s[:-3].replace('.', '')) for s in loadcurve.power]"
   ]
  },
  {
   "cell_type": "markdown",
   "metadata": {},
   "source": [
    "### General data overview"
   ]
  },
  {
   "cell_type": "code",
   "execution_count": 50,
   "metadata": {
    "scrolled": true
   },
   "outputs": [
    {
     "name": "stdout",
     "output_type": "stream",
     "text": [
      "Total comsumption in 2018: 13.6 GWh/a\n"
     ]
    }
   ],
   "source": [
    "total_consumption = loadcurve.power.sum()/4\n",
    "print('Total comsumption in 2018:', round(total_consumption/1000000,1), 'GWh/a');"
   ]
  },
  {
   "cell_type": "code",
   "execution_count": 51,
   "metadata": {},
   "outputs": [
    {
     "data": {
      "text/plain": [
       "2796"
      ]
     },
     "execution_count": 51,
     "metadata": {},
     "output_type": "execute_result"
    }
   ],
   "source": [
    "peak = loadcurve.power.max()\n",
    "peak"
   ]
  },
  {
   "cell_type": "code",
   "execution_count": 53,
   "metadata": {},
   "outputs": [
    {
     "name": "stdout",
     "output_type": "stream",
     "text": [
      "4871.0 full load hours in 2018\n"
     ]
    }
   ],
   "source": [
    "flh = total_consumption / peak\n",
    "print(round(flh,1), 'full load hours in 2018')"
   ]
  },
  {
   "cell_type": "markdown",
   "metadata": {},
   "source": [
    "Peak limit to comply with 7000h condition:"
   ]
  },
  {
   "cell_type": "code",
   "execution_count": 54,
   "metadata": {},
   "outputs": [
    {
     "name": "stdout",
     "output_type": "stream",
     "text": [
      "Max peak power allowed in 2018: 1945.6 kW\n"
     ]
    }
   ],
   "source": [
    "peak_limit = total_consumption / 7000\n",
    "print('Max peak power allowed in 2018:', round(peak_limit,1), 'kW')"
   ]
  },
  {
   "cell_type": "code",
   "execution_count": 75,
   "metadata": {},
   "outputs": [
    {
     "data": {
      "image/png": "[encoded data removed]",
      "text/plain": [
       "<Figure size 864x576 with 1 Axes>"
      ]
     },
     "metadata": {
      "needs_background": "light"
     },
     "output_type": "display_data"
    }
   ],
   "source": [
    "plt.figure(figsize = (12, 8))\n",
    "plt.plot(loadcurve.power[16000:16700])\n",
    "plt.axhline(peak_limit, color = 'red');\n",
    "plt.axhline(2346, color = 'orange');"
   ]
  },
  {
   "cell_type": "code",
   "execution_count": 56,
   "metadata": {},
   "outputs": [
    {
     "data": {
      "image/png": "[encoded data removed]",
      "text/plain": [
       "<Figure size 864x576 with 1 Axes>"
      ]
     },
     "metadata": {
      "needs_background": "light"
     },
     "output_type": "display_data"
    }
   ],
   "source": [
    "plt.figure(figsize = (12, 8))\n",
    "plt.hist(loadcurve.power, bins = 50)\n",
    "plt.axvline(peak_limit, color = 'red');"
   ]
  },
  {
   "cell_type": "markdown",
   "metadata": {},
   "source": [
    "### Evaluation intensive grid use"
   ]
  },
  {
   "cell_type": "markdown",
   "metadata": {},
   "source": [
    "#### Function definition:"
   ]
  },
  {
   "cell_type": "code",
   "execution_count": 100,
   "metadata": {},
   "outputs": [],
   "source": [
    "def peakShavingCapacity(loadcurve, ps_power):\n",
    "    loadcurve = pd.Series(loadcurve)\n",
    "    charge_efficiency = 0.94\n",
    "    discharge_efficiency = 0.94\n",
    "    new_peak = loadcurve.max() - ps_power\n",
    "    bess_inverse_soc = 0\n",
    "    battery_curve = []\n",
    "    for load in loadcurve:\n",
    "        # Case 1: Peak Shaving. High load is detected, battery is being discharged.\n",
    "        if load > new_peak:\n",
    "            bess_inverse_soc = bess_inverse_soc + (load-new_peak)/(discharge_efficiency*4)\n",
    "        # Case 2: Recharging. No peaks, battery is not fully charged, battery can be charged.\n",
    "        elif bess_inverse_soc > 0:\n",
    "            charging_power = min(new_peak - load, ps_power)\n",
    "            bess_inverse_soc = bess_inverse_soc - charging_power/(charge_efficiency*4)\n",
    "        battery_curve.append(bess_inverse_soc)\n",
    "    battery_curve = pd.Series(battery_curve)\n",
    "    \n",
    "    #calculate efc:\n",
    "    power_curve = []\n",
    "    for i in range(1,battery_curve.shape[0]):\n",
    "        power_curve.append((battery_curve[i]-battery_curve[i-1])/4)\n",
    "    power_curve = pd.Series(power_curve)\n",
    "    efc = power_curve.abs().sum()/(4*2*battery_curve.max())\n",
    "        \n",
    "    print('Given Battery Power: ', ps_power, 'kW')\n",
    "    print('New Loadcurve-Limit:', new_peak, 'kW')\n",
    "    print('Resulting FLH:', round(loadcurve.sum()/(4*new_peak),0), 'h')\n",
    "    print('Needed net capacity: ', round(battery_curve.max(),1), 'kWh')\n",
    "    print('EFC for given capacity: ', round(efc,0))\n",
    "    return (battery_curve, power_curve)"
   ]
  },
  {
   "cell_type": "markdown",
   "metadata": {},
   "source": [
    "#### Results:"
   ]
  },
  {
   "cell_type": "code",
   "execution_count": 101,
   "metadata": {},
   "outputs": [
    {
     "name": "stdout",
     "output_type": "stream",
     "text": [
      "Given Battery Power:  450 kW\n",
      "New Loadcurve-Limit: 2346 kW\n",
      "Resulting FLH: 5805.0 h\n",
      "Needed net capacity:  938.8 kWh\n",
      "EFC for given capacity:  3.0\n"
     ]
    }
   ],
   "source": [
    "c,p = peakShavingCapacity(loadcurve.power, 450)"
   ]
  },
  {
   "cell_type": "code",
   "execution_count": 102,
   "metadata": {},
   "outputs": [
    {
     "data": {
      "text/plain": [
       "[<matplotlib.lines.Line2D at 0x1d30f362d30>]"
      ]
     },
     "execution_count": 102,
     "metadata": {},
     "output_type": "execute_result"
    },
    {
     "data": {
      "image/png": "[encoded data removed]",
      "text/plain": [
       "<Figure size 1152x432 with 1 Axes>"
      ]
     },
     "metadata": {
      "needs_background": "light"
     },
     "output_type": "display_data"
    }
   ],
   "source": [
    "plt.figure(figsize=(16,6))\n",
    "plt.plot(c)"
   ]
  },
  {
   "cell_type": "code",
   "execution_count": 103,
   "metadata": {},
   "outputs": [
    {
     "data": {
      "text/plain": [
       "[<matplotlib.lines.Line2D at 0x1d30eb934e0>]"
      ]
     },
     "execution_count": 103,
     "metadata": {},
     "output_type": "execute_result"
    },
    {
     "data": {
      "image/png": "[encoded data removed]",
      "text/plain": [
       "<Figure size 1152x432 with 1 Axes>"
      ]
     },
     "metadata": {
      "needs_background": "light"
     },
     "output_type": "display_data"
    }
   ],
   "source": [
    "plt.figure(figsize=(16,6))\n",
    "plt.plot(p)"
   ]
  },
  {
   "cell_type": "code",
   "execution_count": 92,
   "metadata": {},
   "outputs": [
    {
     "name": "stdout",
     "output_type": "stream",
     "text": [
      "Given Battery Power:  50 kW\n",
      "New Loadcurve-Limit: 2746 kW\n",
      "Resulting FLH: 4960.0 h\n",
      "Needed net capacity:  26.1 kWh\n",
      "EFC for given capacity:  0.0\n",
      "\n",
      "Given Battery Power:  100 kW\n",
      "New Loadcurve-Limit: 2696 kW\n",
      "Resulting FLH: 5052.0 h\n",
      "Needed net capacity:  66.0 kWh\n",
      "EFC for given capacity:  0.0\n",
      "\n",
      "Given Battery Power:  150 kW\n",
      "New Loadcurve-Limit: 2646 kW\n",
      "Resulting FLH: 5147.0 h\n",
      "Needed net capacity:  134.5 kWh\n",
      "EFC for given capacity:  1.0\n",
      "\n",
      "Given Battery Power:  200 kW\n",
      "New Loadcurve-Limit: 2596 kW\n",
      "Resulting FLH: 5246.0 h\n",
      "Needed net capacity:  162.7 kWh\n",
      "EFC for given capacity:  3.0\n",
      "\n",
      "Given Battery Power:  250 kW\n",
      "New Loadcurve-Limit: 2546 kW\n",
      "Resulting FLH: 5349.0 h\n",
      "Needed net capacity:  227.9 kWh\n",
      "EFC for given capacity:  6.0\n",
      "\n",
      "Given Battery Power:  300 kW\n",
      "New Loadcurve-Limit: 2496 kW\n",
      "Resulting FLH: 5456.0 h\n",
      "Needed net capacity:  364.2 kWh\n",
      "EFC for given capacity:  6.0\n",
      "\n",
      "Given Battery Power:  350 kW\n",
      "New Loadcurve-Limit: 2446 kW\n",
      "Resulting FLH: 5568.0 h\n",
      "Needed net capacity:  485.5 kWh\n",
      "EFC for given capacity:  8.0\n",
      "\n",
      "Given Battery Power:  400 kW\n",
      "New Loadcurve-Limit: 2396 kW\n",
      "Resulting FLH: 5684.0 h\n",
      "Needed net capacity:  601.1 kWh\n",
      "EFC for given capacity:  9.0\n",
      "\n",
      "Given Battery Power:  450 kW\n",
      "New Loadcurve-Limit: 2346 kW\n",
      "Resulting FLH: 5805.0 h\n",
      "Needed net capacity:  776.1 kWh\n",
      "EFC for given capacity:  10.0\n",
      "\n"
     ]
    }
   ],
   "source": [
    "for i in [50, 100, 150, 200, 250, 300, 350, 400, 450]:\n",
    "    peakShavingCapacity(loadcurve.power, i)\n",
    "    print()"
   ]
  },
  {
   "cell_type": "markdown",
   "metadata": {},
   "source": [
    "Leistungspreis: 92,92€"
   ]
  },
  {
   "cell_type": "code",
   "execution_count": null,
   "metadata": {},
   "outputs": [],
   "source": []
  },
  {
   "cell_type": "markdown",
   "metadata": {},
   "source": [
    "In 2017, a peak shaving power of 140 kW would have been necessary to achieve <= 7000 FLH. A necessary net capacity of 343 kWh would result in a total capacity of 700 kWh."
   ]
  },
  {
   "cell_type": "markdown",
   "metadata": {},
   "source": [
    "Felix: \"Battery Price for customer around 750€ / kW and kWh.\" -> Resulting price for 2017: "
   ]
  },
  {
   "cell_type": "code",
   "execution_count": 161,
   "metadata": {},
   "outputs": [
    {
     "data": {
      "text/plain": [
       "525000"
      ]
     },
     "execution_count": 161,
     "metadata": {},
     "output_type": "execute_result"
    }
   ],
   "source": [
    "750*700"
   ]
  },
  {
   "cell_type": "markdown",
   "metadata": {},
   "source": [
    "### Future outlook"
   ]
  },
  {
   "cell_type": "markdown",
   "metadata": {},
   "source": [
    "- According to customer, max. peak loads of 2500 - 2600 kW shall not be exceeded in the future\n",
    "- Currently investing in more efficient machines, therefore base load will decrease "
   ]
  },
  {
   "cell_type": "code",
   "execution_count": 48,
   "metadata": {},
   "outputs": [
    {
     "name": "stdout",
     "output_type": "stream",
     "text": [
      "Expected baseload will be between: 17.5 and 18.2 GWh per year (was 21.6 GWh in 2016).\n"
     ]
    }
   ],
   "source": [
    "print('Expected baseload will be between:', 2500*7000/1000000, 'and', 2600*7000/1000000, 'GWh per year (was 21.6 GWh in 2016).')"
   ]
  },
  {
   "cell_type": "markdown",
   "metadata": {},
   "source": [
    "### Battery dimensioning"
   ]
  },
  {
   "cell_type": "markdown",
   "metadata": {},
   "source": [
    "Problem: We don't know how peaks will change when base load will be reduced. Therefore we look at two extreme scenarios:\n",
    "- Scenario 1: Peaks are still as high as before in 2017-2018.\n",
    "- Scenario 2: Peaks are reduced relatively with the total consumption."
   ]
  },
  {
   "cell_type": "markdown",
   "metadata": {},
   "source": [
    "Scenario 1:"
   ]
  },
  {
   "cell_type": "markdown",
   "metadata": {},
   "source": [
    "For 2017: Peak needs to be reduced from 3076 kW to 2600 kW => by 476 kW"
   ]
  },
  {
   "cell_type": "code",
   "execution_count": 79,
   "metadata": {},
   "outputs": [
    {
     "name": "stdout",
     "output_type": "stream",
     "text": [
      "Given Battery Power:  476 kW\n",
      "New Loadcurve-Limit: 2600.16 kW\n",
      "Resulting FLH: 7903.0 h\n",
      "Needed net capacity:  25424.5 kWh\n"
     ]
    }
   ],
   "source": [
    "battery_curve_s1_2017 = peakShavingCapacity(loadcurve_2017.power, 476)"
   ]
  },
  {
   "cell_type": "markdown",
   "metadata": {},
   "source": [
    "For 2018 (up to this date): Peak needs to be reduced from 3028 kW to 2600 kW => by 428 kW"
   ]
  },
  {
   "cell_type": "code",
   "execution_count": 82,
   "metadata": {},
   "outputs": [
    {
     "name": "stdout",
     "output_type": "stream",
     "text": [
      "Given Battery Power:  428 kW\n",
      "New Loadcurve-Limit: 2600.48 kW\n",
      "Resulting FLH: 5625.0 h\n",
      "Needed net capacity:  7405.6 kWh\n"
     ]
    }
   ],
   "source": [
    "battery_curve_s1_2018 = peakShavingCapacity(loadcurve_2018.power, 428)"
   ]
  },
  {
   "cell_type": "markdown",
   "metadata": {},
   "source": [
    "Result: If peak load structure remains approximately the same, it will not be possible to achieve 7000 FLH with a battery container."
   ]
  },
  {
   "cell_type": "markdown",
   "metadata": {},
   "source": [
    "Scenario 2:"
   ]
  },
  {
   "cell_type": "markdown",
   "metadata": {},
   "source": [
    "Reducing all loads in 2017 by a constant factor: f = 18.2/20.55 = 0.89"
   ]
  },
  {
   "cell_type": "code",
   "execution_count": 85,
   "metadata": {},
   "outputs": [
    {
     "name": "stderr",
     "output_type": "stream",
     "text": [
      "C:\\ProgramData\\Anaconda3\\lib\\site-packages\\ipykernel_launcher.py:1: SettingWithCopyWarning: \n",
      "A value is trying to be set on a copy of a slice from a DataFrame.\n",
      "Try using .loc[row_indexer,col_indexer] = value instead\n",
      "\n",
      "See the caveats in the documentation: http://pandas.pydata.org/pandas-docs/stable/indexing.html#indexing-view-versus-copy\n",
      "  \"\"\"Entry point for launching an IPython kernel.\n"
     ]
    }
   ],
   "source": [
    "loadcurve_2017['reduced_power']=loadcurve_2017['power']*0.89"
   ]
  },
  {
   "cell_type": "code",
   "execution_count": 87,
   "metadata": {},
   "outputs": [
    {
     "data": {
      "text/plain": [
       "2737.7824"
      ]
     },
     "execution_count": 87,
     "metadata": {},
     "output_type": "execute_result"
    }
   ],
   "source": [
    "loadcurve_2017.reduced_power.max()"
   ]
  },
  {
   "cell_type": "markdown",
   "metadata": {},
   "source": [
    "New loadcurve has maximum at 2740 kW. Needs to be reduced to 2500-2600 kW => by 140-240 kW."
   ]
  },
  {
   "cell_type": "code",
   "execution_count": 89,
   "metadata": {},
   "outputs": [
    {
     "name": "stdout",
     "output_type": "stream",
     "text": [
      "Given Battery Power:  140 kW\n",
      "New Loadcurve-Limit: 2597.7824 kW\n",
      "Resulting FLH: 7040.0 h\n",
      "Needed net capacity:  425.8 kWh\n"
     ]
    }
   ],
   "source": [
    "battery_curve_s21_2017 = peakShavingCapacity(loadcurve_2017.reduced_power, 140)"
   ]
  },
  {
   "cell_type": "code",
   "execution_count": 90,
   "metadata": {},
   "outputs": [
    {
     "name": "stdout",
     "output_type": "stream",
     "text": [
      "Given Battery Power:  240 kW\n",
      "New Loadcurve-Limit: 2497.7824 kW\n",
      "Resulting FLH: 7322.0 h\n",
      "Needed net capacity:  1806.1 kWh\n"
     ]
    }
   ],
   "source": [
    "battery_curve_s22_2017 = peakShavingCapacity(loadcurve_2017.reduced_power, 240)"
   ]
  },
  {
   "cell_type": "markdown",
   "metadata": {},
   "source": [
    "Reduction to 2600 kW would be possible in that case -> battery cost approx. 600 k€.\n",
    "Reduction to 2500 kW would need very large battery -> cost approx. 2 mio. €."
   ]
  },
  {
   "cell_type": "markdown",
   "metadata": {},
   "source": [
    "Overall problem: Too many unsecurities regarding future load curve, very risky. We would not advise to invest in battery now, it is likely to fail on achieving 7000 FLH and the risk can not be determined based on given information."
   ]
  },
  {
   "cell_type": "markdown",
   "metadata": {},
   "source": [
    "Recommendation from our side: Wait until end of 2019, then re-analyze loadcurve and figure out if peak shaving will be possible with battery."
   ]
  }
 ],
 "metadata": {
  "kernelspec": {
   "display_name": "Python 3",
   "language": "python",
   "name": "python3"
  },
  "language_info": {
   "codemirror_mode": {
    "name": "ipython",
    "version": 3
   },
   "file_extension": ".py",
   "mimetype": "text/x-python",
   "name": "python",
   "nbconvert_exporter": "python",
   "pygments_lexer": "ipython3",
   "version": "3.7.3"
  }
 },
 "nbformat": 4,
 "nbformat_minor": 2
}
